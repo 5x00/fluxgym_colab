{
  "cells": [
    {
      "cell_type": "markdown",
      "metadata": {
        "id": "view-in-github",
        "colab_type": "text"
      },
      "source": [
        "<a href=\"https://colab.research.google.com/github/5x00/fluxgym_colab/blob/main/FluxGym.ipynb\" target=\"_parent\"><img src=\"https://colab.research.google.com/assets/colab-badge.svg\" alt=\"Open In Colab\"/></a>"
      ]
    },
    {
      "cell_type": "code",
      "source": [
        "from google.colab import drive\n",
        "drive.mount('/content/drive')"
      ],
      "metadata": {
        "colab": {
          "base_uri": "https://localhost:8080/"
        },
        "id": "vYNjsd_QZe3c",
        "outputId": "b7591201-3594-4362-d90a-be85f1cd469f"
      },
      "execution_count": 1,
      "outputs": [
        {
          "output_type": "stream",
          "name": "stdout",
          "text": [
            "Drive already mounted at /content/drive; to attempt to forcibly remount, call drive.mount(\"/content/drive\", force_remount=True).\n"
          ]
        }
      ]
    },
    {
      "cell_type": "markdown",
      "source": [
        "# **Update**"
      ],
      "metadata": {
        "id": "_I-HADozm4sB"
      }
    },
    {
      "cell_type": "code",
      "source": [
        "%cd /content/drive/MyDrive/fluxgym/\n",
        "!git pull"
      ],
      "metadata": {
        "colab": {
          "base_uri": "https://localhost:8080/"
        },
        "id": "nndzHc-uZakm",
        "outputId": "ea0a35fd-349a-4567-921f-85e18bfa3f3f"
      },
      "execution_count": 3,
      "outputs": [
        {
          "output_type": "stream",
          "name": "stdout",
          "text": [
            "/content/drive/MyDrive/fluxgym-Colab\n",
            "Already up to date.\n"
          ]
        }
      ]
    },
    {
      "cell_type": "markdown",
      "source": [
        "# **Initiate**\n",
        "\n",
        "\n",
        "\n"
      ],
      "metadata": {
        "id": "A-39F5xHjJ2m"
      }
    },
    {
      "cell_type": "code",
      "execution_count": null,
      "metadata": {
        "collapsed": true,
        "id": "F1U5UZJltP30"
      },
      "outputs": [],
      "source": [
        "%cd /content/drive/MyDrive/fluxgym/sd-scripts\n",
        "!pip install -r requirements.txt"
      ]
    },
    {
      "cell_type": "code",
      "execution_count": null,
      "metadata": {
        "id": "keb-H6-tu6d8"
      },
      "outputs": [],
      "source": [
        "%cd /content/drive/MyDrive/fluxgym/\n",
        "!pip install -r requirements.txt"
      ]
    },
    {
      "cell_type": "code",
      "execution_count": null,
      "metadata": {
        "id": "NxoJxm3zuBDL",
        "collapsed": true
      },
      "outputs": [],
      "source": [
        "!pip install --pre torch==2.4 torchvision torchaudio --index-url https://download.pytorch.org/whl/cu121"
      ]
    },
    {
      "cell_type": "code",
      "source": [
        "!wget -O /content/drive/MyDrive/fluxgym/models/unet/bdsqlsz/flux1-dev2pro-single.safetensors https://huggingface.co/bdsqlsz/flux1-dev2pro-single/resolve/main/flux1-dev2pro.safetensors\n",
        "#!wget -O /content/drive/MyDrive/fluxgym/models/clip/clip_l.safetensors https://huggingface.co/comfyanonymous/flux_text_encoders/resolve/main/clip_l.safetensors?download=true\n",
        "#!wget -O /content/drive/MyDrive/fluxgym/models/clip/t5xxl_fp8.safetensors https://huggingface.co/comfyanonymous/flux_text_encoders/resolve/main/t5xxl_fp8_e4m3fn.safetensors?download=true\n",
        "#!wget -O /content/drive/MyDrive/fluxgym/models/vae/ae.sft https://huggingface.co/cocktailpeanut/xulf-dev/resolve/main/ae.sft?download=true"
      ],
      "metadata": {
        "id": "ybX3gXNhbiZ2"
      },
      "execution_count": null,
      "outputs": []
    },
    {
      "cell_type": "markdown",
      "source": [
        "# **Start the web server and click the share link**"
      ],
      "metadata": {
        "id": "Tef5XIaQksXa"
      }
    },
    {
      "cell_type": "code",
      "execution_count": null,
      "metadata": {
        "id": "mzJMy5sjuICj",
        "colab": {
          "base_uri": "https://localhost:8080/"
        },
        "outputId": "ab0b20ba-5d89-44aa-bc57-5c634fa96d39"
      },
      "outputs": [
        {
          "output_type": "stream",
          "name": "stdout",
          "text": [
            "/content/drive/MyDrive/fluxgym\n",
            "2025-01-22 20:28:39.084010: I tensorflow/core/util/port.cc:153] oneDNN custom operations are on. You may see slightly different numerical results due to floating-point round-off errors from different computation orders. To turn them off, set the environment variable `TF_ENABLE_ONEDNN_OPTS=0`.\n",
            "2025-01-22 20:28:39.103820: E external/local_xla/xla/stream_executor/cuda/cuda_fft.cc:485] Unable to register cuFFT factory: Attempting to register factory for plugin cuFFT when one has already been registered\n",
            "2025-01-22 20:28:39.126373: E external/local_xla/xla/stream_executor/cuda/cuda_dnn.cc:8454] Unable to register cuDNN factory: Attempting to register factory for plugin cuDNN when one has already been registered\n",
            "2025-01-22 20:28:39.133204: E external/local_xla/xla/stream_executor/cuda/cuda_blas.cc:1452] Unable to register cuBLAS factory: Attempting to register factory for plugin cuBLAS when one has already been registered\n",
            "2025-01-22 20:28:39.149653: I tensorflow/core/platform/cpu_feature_guard.cc:210] This TensorFlow binary is optimized to use available CPU instructions in performance-critical operations.\n",
            "To enable the following instructions: AVX2 AVX512F AVX512_VNNI FMA, in other operations, rebuild TensorFlow with the appropriate compiler flags.\n",
            "2025-01-22 20:28:40.476013: W tensorflow/compiler/tf2tensorrt/utils/py_utils.cc:38] TF-TRT Warning: Could not find TensorRT\n",
            "current_account=None\n",
            "model_names=['flux-dev', 'flux-schnell', 'bdsqlsz/flux1-dev2pro-single']\n",
            "\n",
            "\n",
            "\n",
            "\n",
            "\n",
            "\n",
            "\n",
            "\n",
            "\n",
            "\n",
            "\n",
            "\n",
            "\n",
            "\n",
            "\n",
            "\n",
            "\n",
            "\n",
            "\n",
            "\n",
            "\n",
            "\n",
            "\n",
            "\n",
            "\n",
            "\n",
            "\n",
            "\n",
            "\n",
            "\n",
            "\n",
            "\n",
            "\n",
            "\n",
            "\n",
            "Running on local URL:  http://127.0.0.1:7860\n",
            "\u001b[2;36m2025-01-22 20:28:50\u001b[0m\u001b[2;36m \u001b[0m\u001b[34mINFO    \u001b[0m HTTP Request: \u001b[1;33mGET\u001b[0m \u001b[4;94mhttp://127.0.0.1:7860/startup-events\u001b[0m  \u001b]8;id=913712;file:///usr/local/lib/python3.11/dist-packages/httpx/_client.py\u001b\\\u001b[2m_client.py\u001b[0m\u001b]8;;\u001b\\\u001b[2m:\u001b[0m\u001b]8;id=276233;file:///usr/local/lib/python3.11/dist-packages/httpx/_client.py#1025\u001b\\\u001b[2m1025\u001b[0m\u001b]8;;\u001b\\\n",
            "\u001b[2;36m                    \u001b[0m         \u001b[32m\"HTTP/1.1 200 OK\"\u001b[0m                                       \u001b[2m               \u001b[0m\n",
            "\u001b[2;36m2025-01-22 20:28:51\u001b[0m\u001b[2;36m \u001b[0m\u001b[34mINFO    \u001b[0m HTTP Request: \u001b[1;33mHEAD\u001b[0m \u001b[4;94mhttp://127.0.0.1:7860/\u001b[0m \u001b[32m\"HTTP/1.1 200\u001b[0m \u001b]8;id=776387;file:///usr/local/lib/python3.11/dist-packages/httpx/_client.py\u001b\\\u001b[2m_client.py\u001b[0m\u001b]8;;\u001b\\\u001b[2m:\u001b[0m\u001b]8;id=787829;file:///usr/local/lib/python3.11/dist-packages/httpx/_client.py#1025\u001b\\\u001b[2m1025\u001b[0m\u001b]8;;\u001b\\\n",
            "\u001b[2;36m                    \u001b[0m         \u001b[32mOK\"\u001b[0m                                                     \u001b[2m               \u001b[0m\n",
            "\u001b[2;36m                   \u001b[0m\u001b[2;36m \u001b[0m\u001b[34mINFO    \u001b[0m HTTP Request: \u001b[1;33mGET\u001b[0m                                       \u001b]8;id=664630;file:///usr/local/lib/python3.11/dist-packages/httpx/_client.py\u001b\\\u001b[2m_client.py\u001b[0m\u001b]8;;\u001b\\\u001b[2m:\u001b[0m\u001b]8;id=481917;file:///usr/local/lib/python3.11/dist-packages/httpx/_client.py#1025\u001b\\\u001b[2m1025\u001b[0m\u001b]8;;\u001b\\\n",
            "\u001b[2;36m                    \u001b[0m         \u001b[4;94mhttps://api.gradio.app/v2/tunnel-request\u001b[0m \u001b[32m\"HTTP/1.1 200 \u001b[0m \u001b[2m               \u001b[0m\n",
            "\u001b[2;36m                    \u001b[0m         \u001b[32mOK\"\u001b[0m                                                     \u001b[2m               \u001b[0m\n",
            "\u001b[2;36m                   \u001b[0m\u001b[2;36m \u001b[0m\u001b[34mINFO    \u001b[0m HTTP Request: \u001b[1;33mGET\u001b[0m                                       \u001b]8;id=800542;file:///usr/local/lib/python3.11/dist-packages/httpx/_client.py\u001b\\\u001b[2m_client.py\u001b[0m\u001b]8;;\u001b\\\u001b[2m:\u001b[0m\u001b]8;id=5281;file:///usr/local/lib/python3.11/dist-packages/httpx/_client.py#1025\u001b\\\u001b[2m1025\u001b[0m\u001b]8;;\u001b\\\n",
            "\u001b[2;36m                    \u001b[0m         \u001b[4;94mhttps://cdn-media.huggingface.co/frpc-gradio-0.2/frpc_l\u001b[0m \u001b[2m               \u001b[0m\n",
            "\u001b[2;36m                    \u001b[0m         \u001b[4;94minux_amd64\u001b[0m \u001b[32m\"HTTP/1.1 200 OK\"\u001b[0m                            \u001b[2m               \u001b[0m\n",
            "Running on public URL: https://cbb9b0d92ba18ab5cc.gradio.live\n",
            "\n",
            "This share link expires in 72 hours. For free permanent hosting and GPU upgrades, run `gradio deploy` from Terminal to deploy to Spaces (https://huggingface.co/spaces)\n"
          ]
        }
      ],
      "source": [
        "%cd /content/drive/MyDrive/fluxgym/\n",
        "!python app.py"
      ]
    }
  ],
  "metadata": {
    "colab": {
      "provenance": [],
      "gpuType": "A100",
      "machine_shape": "hm",
      "include_colab_link": true
    },
    "kernelspec": {
      "display_name": "Python 3",
      "name": "python3"
    },
    "language_info": {
      "name": "python"
    },
    "accelerator": "GPU"
  },
  "nbformat": 4,
  "nbformat_minor": 0
}